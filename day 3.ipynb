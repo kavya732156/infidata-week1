{
 "cells": [
  {
   "cell_type": "markdown",
   "id": "7306cfaf",
   "metadata": {},
   "source": [
    "# numpy \n",
    "## in order to overcome the disadvantge of list numpy is used.\n",
    "## if ur jupyter not haing the numpy u can install ny commanf pip install numpy \n",
    "## then import the numpy"
   ]
  },
  {
   "cell_type": "code",
   "execution_count": 1,
   "id": "2f87ea28",
   "metadata": {},
   "outputs": [
    {
     "name": "stdout",
     "output_type": "stream",
     "text": [
      "[1 2 3 4]\n"
     ]
    }
   ],
   "source": [
    "import numpy\n",
    "a=numpy.array([1,2,3,4])\n",
    "print(a)"
   ]
  },
  {
   "cell_type": "code",
   "execution_count": 2,
   "id": "1bf6b4d5",
   "metadata": {},
   "outputs": [
    {
     "data": {
      "text/plain": [
       "array([1, 2, 3, 4])"
      ]
     },
     "execution_count": 2,
     "metadata": {},
     "output_type": "execute_result"
    }
   ],
   "source": [
    "import numpy\n",
    "a=numpy.array([1,2,3,4])\n",
    "a\n"
   ]
  },
  {
   "cell_type": "markdown",
   "id": "df8e62b8",
   "metadata": {},
   "source": [
    "# as will acts as alligns name "
   ]
  },
  {
   "cell_type": "code",
   "execution_count": 3,
   "id": "bf422ea0",
   "metadata": {},
   "outputs": [
    {
     "data": {
      "text/plain": [
       "array([1, 2, 3, 4])"
      ]
     },
     "execution_count": 3,
     "metadata": {},
     "output_type": "execute_result"
    }
   ],
   "source": [
    "import numpy as np\n",
    "a=np.array([1,2,3,4])\n",
    "a"
   ]
  },
  {
   "cell_type": "code",
   "execution_count": 4,
   "id": "d6563e37",
   "metadata": {},
   "outputs": [
    {
     "data": {
      "text/plain": [
       "array([1, 2, 3, 4])"
      ]
     },
     "execution_count": 4,
     "metadata": {},
     "output_type": "execute_result"
    }
   ],
   "source": [
    "import numpy \n",
    "a=np.array([1,2,3,4])\n",
    "a"
   ]
  },
  {
   "cell_type": "markdown",
   "id": "7f73755e",
   "metadata": {},
   "source": [
    "# when we wont given the  alins name , it displays error"
   ]
  },
  {
   "cell_type": "code",
   "execution_count": 7,
   "id": "bd4d8477",
   "metadata": {},
   "outputs": [
    {
     "ename": "NameError",
     "evalue": "name 'tp' is not defined",
     "output_type": "error",
     "traceback": [
      "\u001b[1;31m---------------------------------------------------------------------------\u001b[0m",
      "\u001b[1;31mNameError\u001b[0m                                 Traceback (most recent call last)",
      "\u001b[1;32m<ipython-input-7-45833811f4b4>\u001b[0m in \u001b[0;36m<module>\u001b[1;34m\u001b[0m\n\u001b[0;32m      1\u001b[0m \u001b[1;32mimport\u001b[0m \u001b[0mnumpy\u001b[0m\u001b[1;33m\u001b[0m\u001b[1;33m\u001b[0m\u001b[0m\n\u001b[1;32m----> 2\u001b[1;33m \u001b[0ma\u001b[0m\u001b[1;33m=\u001b[0m\u001b[0mtp\u001b[0m\u001b[1;33m.\u001b[0m\u001b[0marray\u001b[0m\u001b[1;33m(\u001b[0m\u001b[1;33m[\u001b[0m\u001b[1;36m1\u001b[0m\u001b[1;33m,\u001b[0m\u001b[1;36m2\u001b[0m\u001b[1;33m,\u001b[0m\u001b[1;36m3\u001b[0m\u001b[1;33m,\u001b[0m\u001b[1;36m4\u001b[0m\u001b[1;33m]\u001b[0m\u001b[1;33m)\u001b[0m\u001b[1;33m\u001b[0m\u001b[1;33m\u001b[0m\u001b[0m\n\u001b[0m\u001b[0;32m      3\u001b[0m \u001b[0ma\u001b[0m\u001b[1;33m\u001b[0m\u001b[1;33m\u001b[0m\u001b[0m\n",
      "\u001b[1;31mNameError\u001b[0m: name 'tp' is not defined"
     ]
    }
   ],
   "source": [
    "import numpy \n",
    "a=tp.array([1,2,3,4])\n",
    "a"
   ]
  },
  {
   "cell_type": "code",
   "execution_count": 9,
   "id": "a17659a5",
   "metadata": {},
   "outputs": [
    {
     "name": "stdout",
     "output_type": "stream",
     "text": [
      "<module 'numpy.version' from 'C:\\\\Users\\\\KAVYA\\\\anaconda3\\\\lib\\\\site-packages\\\\numpy\\\\version.py'>\n"
     ]
    }
   ],
   "source": [
    "import numpy as np\n",
    "print(np.version)"
   ]
  },
  {
   "cell_type": "markdown",
   "id": "375556f2",
   "metadata": {},
   "source": [
    "# numpy always depend on size"
   ]
  },
  {
   "cell_type": "markdown",
   "id": "7277e8f3",
   "metadata": {},
   "source": [
    "# ndarray : n dimension array"
   ]
  },
  {
   "cell_type": "code",
   "execution_count": 11,
   "id": "13775b59",
   "metadata": {},
   "outputs": [
    {
     "data": {
      "text/plain": [
       "numpy.ndarray"
      ]
     },
     "execution_count": 11,
     "metadata": {},
     "output_type": "execute_result"
    }
   ],
   "source": [
    "import numpy as np\n",
    "a=np.array([1,2,3,4])\n",
    "type(a)"
   ]
  },
  {
   "cell_type": "markdown",
   "id": "a222d7a9",
   "metadata": {},
   "source": [
    "# creating a Zero Dimension "
   ]
  },
  {
   "cell_type": "code",
   "execution_count": 12,
   "id": "7095b806",
   "metadata": {},
   "outputs": [
    {
     "data": {
      "text/plain": [
       "array(45)"
      ]
     },
     "execution_count": 12,
     "metadata": {},
     "output_type": "execute_result"
    }
   ],
   "source": [
    "import numpy as np\n",
    "a=np.array(45)\n",
    "a\n"
   ]
  },
  {
   "cell_type": "markdown",
   "id": "ab455130",
   "metadata": {},
   "source": [
    "# creating two Dimensional array "
   ]
  },
  {
   "cell_type": "code",
   "execution_count": 17,
   "id": "d3514097",
   "metadata": {},
   "outputs": [
    {
     "data": {
      "text/plain": [
       "array([[1, 2, 3, 4],\n",
       "       [3, 4, 6, 6]])"
      ]
     },
     "execution_count": 17,
     "metadata": {},
     "output_type": "execute_result"
    }
   ],
   "source": [
    "import numpy as np\n",
    "a=np.array([[1,2,3,4],[3,4,6,6]])\n",
    "a"
   ]
  },
  {
   "cell_type": "markdown",
   "id": "b0316ab8",
   "metadata": {},
   "source": [
    "# creating three dimenstional array \n",
    "## when we have 2 two dimentional array , then it is three dimensional array "
   ]
  },
  {
   "cell_type": "code",
   "execution_count": 20,
   "id": "8a385fda",
   "metadata": {},
   "outputs": [
    {
     "data": {
      "text/plain": [
       "array([[[1, 2, 3, 4],\n",
       "        [3, 4, 6, 6]],\n",
       "\n",
       "       [[5, 4, 5, 7],\n",
       "        [3, 8, 8, 9]]])"
      ]
     },
     "execution_count": 20,
     "metadata": {},
     "output_type": "execute_result"
    }
   ],
   "source": [
    "import numpy as np\n",
    "a=np.array([[[1,2,3,4],[3,4,6,6]] , [[5,4,5,7],[3,8,8,9]]])\n",
    "a"
   ]
  },
  {
   "cell_type": "markdown",
   "id": "e03caf11",
   "metadata": {},
   "source": [
    "# to known the dimensions : ndim method is used"
   ]
  },
  {
   "cell_type": "code",
   "execution_count": 22,
   "id": "87b523b2",
   "metadata": {},
   "outputs": [
    {
     "name": "stdout",
     "output_type": "stream",
     "text": [
      "0\n",
      "1\n",
      "2\n",
      "3\n"
     ]
    }
   ],
   "source": [
    "import numpy as np\n",
    "a=np.array(45)\n",
    "b=np.array([1,2,3,4])\n",
    "c=np.array([[1,2,3,4],[3,4,6,6]])\n",
    "d=np.array([[[1,2,3,4],[3,4,6,6]] , [[5,4,5,7],[3,8,8,9]]])\n",
    "print(a.ndim)\n",
    "print(b.ndim)\n",
    "print(c.ndim)\n",
    "print(d.ndim)\n"
   ]
  },
  {
   "cell_type": "markdown",
   "id": "89dd21bb",
   "metadata": {},
   "source": [
    "# on ndmin method is used to add n specified no. of brackets"
   ]
  },
  {
   "cell_type": "code",
   "execution_count": 24,
   "id": "c8b6f4c8",
   "metadata": {},
   "outputs": [
    {
     "name": "stdout",
     "output_type": "stream",
     "text": [
      "5\n",
      "[[[[[1 2 3 4]]]]]\n"
     ]
    }
   ],
   "source": [
    "import numpy as np\n",
    "a=np.array([1,2,3,4], ndmin=5)\n",
    "print(a.ndim)\n",
    "print(a)\n"
   ]
  },
  {
   "cell_type": "markdown",
   "id": "24a3399c",
   "metadata": {},
   "source": [
    "# accessing : by index method "
   ]
  },
  {
   "cell_type": "code",
   "execution_count": 25,
   "id": "2d30972b",
   "metadata": {},
   "outputs": [
    {
     "data": {
      "text/plain": [
       "1"
      ]
     },
     "execution_count": 25,
     "metadata": {},
     "output_type": "execute_result"
    }
   ],
   "source": [
    "import numpy as np\n",
    "a=np.array([1,2,3,4])\n",
    "a[0]\n"
   ]
  },
  {
   "cell_type": "code",
   "execution_count": 26,
   "id": "ddaf9300",
   "metadata": {},
   "outputs": [
    {
     "name": "stdout",
     "output_type": "stream",
     "text": [
      "7\n"
     ]
    }
   ],
   "source": [
    "import numpy as np\n",
    "a=np.array([1,2,3,4])\n",
    "print(a[2]+a[3])"
   ]
  },
  {
   "cell_type": "markdown",
   "id": "1ab6873f",
   "metadata": {},
   "source": [
    "# accesing two dimentional array"
   ]
  },
  {
   "cell_type": "code",
   "execution_count": 27,
   "id": "5e0507ac",
   "metadata": {},
   "outputs": [
    {
     "name": "stdout",
     "output_type": "stream",
     "text": [
      "2\n"
     ]
    }
   ],
   "source": [
    "import numpy as np\n",
    "a=np.array([[1,2,3,4],[5,6,7,8]])\n",
    "print(a[0][1])"
   ]
  },
  {
   "cell_type": "code",
   "execution_count": 30,
   "id": "4db9b79f",
   "metadata": {},
   "outputs": [
    {
     "name": "stdout",
     "output_type": "stream",
     "text": [
      "7\n"
     ]
    }
   ],
   "source": [
    "import numpy as np\n",
    "a=np.array([[1,2,3,4],[5,6,7,8]])\n",
    "print(a[1][2])"
   ]
  },
  {
   "cell_type": "markdown",
   "id": "b71761e8",
   "metadata": {},
   "source": [
    "# accessing Three dimensional array"
   ]
  },
  {
   "cell_type": "code",
   "execution_count": 31,
   "id": "4526dd8b",
   "metadata": {},
   "outputs": [
    {
     "name": "stdout",
     "output_type": "stream",
     "text": [
      "7\n"
     ]
    }
   ],
   "source": [
    "import numpy as np\n",
    "a=np.array([[[1,2,3,4],[3,4,6,6]] , [[9,8,7,4],[5,4,9,8]]])\n",
    "print(a[1,0,2])"
   ]
  },
  {
   "cell_type": "code",
   "execution_count": 32,
   "id": "61f3a007",
   "metadata": {},
   "outputs": [
    {
     "name": "stdout",
     "output_type": "stream",
     "text": [
      "4\n"
     ]
    }
   ],
   "source": [
    "import numpy as np\n",
    "a=np.array([[[1,2,3,4],[3,4,6,6]] , [[9,8,7,4],[5,4,9,8]]])\n",
    "print(a[0,1,1])"
   ]
  },
  {
   "cell_type": "markdown",
   "id": "028baff2",
   "metadata": {},
   "source": [
    "# Negative indexing "
   ]
  },
  {
   "cell_type": "code",
   "execution_count": 35,
   "id": "f40017f4",
   "metadata": {},
   "outputs": [
    {
     "name": "stdout",
     "output_type": "stream",
     "text": [
      "7\n"
     ]
    }
   ],
   "source": [
    "import numpy as np\n",
    "a=np.array([[1,2,3,4],[5,6,7,8]])\n",
    "print(a[1][-2])"
   ]
  },
  {
   "cell_type": "markdown",
   "id": "26983580",
   "metadata": {},
   "source": [
    "# slicing"
   ]
  },
  {
   "cell_type": "code",
   "execution_count": 37,
   "id": "4712cbfa",
   "metadata": {},
   "outputs": [
    {
     "name": "stdout",
     "output_type": "stream",
     "text": [
      "[2 3]\n"
     ]
    }
   ],
   "source": [
    "import numpy as np\n",
    "a=np.array([1,2,3,4])\n",
    "print(a[1:3])"
   ]
  },
  {
   "cell_type": "code",
   "execution_count": 40,
   "id": "18e13e40",
   "metadata": {},
   "outputs": [
    {
     "name": "stdout",
     "output_type": "stream",
     "text": [
      "[6 7]\n"
     ]
    }
   ],
   "source": [
    "import numpy as np\n",
    "a=np.array([1,2,3,4,5,6,7,8])\n",
    "print(a[-3:-1])"
   ]
  },
  {
   "cell_type": "markdown",
   "id": "29c24e95",
   "metadata": {},
   "source": [
    "# accesing in two dimentional array"
   ]
  },
  {
   "cell_type": "code",
   "execution_count": 41,
   "id": "1596ad6d",
   "metadata": {},
   "outputs": [
    {
     "name": "stdout",
     "output_type": "stream",
     "text": [
      "[2 3]\n"
     ]
    }
   ],
   "source": [
    "import numpy as np\n",
    "a=np.array([[1,2,3,4],[5,6,7,8]])\n",
    "print(a[0,1:3])"
   ]
  },
  {
   "cell_type": "markdown",
   "id": "fd902aea",
   "metadata": {},
   "source": [
    "# copy method : what ever changes that made to the orinal array, it does not effect the copy of another array also"
   ]
  },
  {
   "cell_type": "code",
   "execution_count": 43,
   "id": "8aa860ea",
   "metadata": {},
   "outputs": [
    {
     "name": "stdout",
     "output_type": "stream",
     "text": [
      "[54  2  3  4]\n",
      "[1 2 3 4]\n"
     ]
    }
   ],
   "source": [
    "import numpy as np\n",
    "a=np.array([1,2,3,4])\n",
    "x=a.copy()\n",
    "a[0]=54\n",
    "print(a)\n",
    "print(x)"
   ]
  },
  {
   "cell_type": "code",
   "execution_count": 44,
   "id": "6b43bbc2",
   "metadata": {},
   "outputs": [
    {
     "name": "stdout",
     "output_type": "stream",
     "text": [
      "[54  2  3  4]\n",
      "[54  2  3  4]\n"
     ]
    }
   ],
   "source": [
    "import numpy as np\n",
    "a=np.array([1,2,3,4])\n",
    "a[0]=54\n",
    "x=a.copy()\n",
    "print(a)\n",
    "print(x)"
   ]
  },
  {
   "cell_type": "markdown",
   "id": "315d76c9",
   "metadata": {},
   "source": [
    "# view method() : what ever changes that made to the orinal array, it effect the copy of another array also "
   ]
  },
  {
   "cell_type": "code",
   "execution_count": 45,
   "id": "d5428fcf",
   "metadata": {},
   "outputs": [
    {
     "name": "stdout",
     "output_type": "stream",
     "text": [
      "[54  2  3  4]\n",
      "[54  2  3  4]\n"
     ]
    }
   ],
   "source": [
    "import numpy as np\n",
    "a=np.array([1,2,3,4])\n",
    "x=a.view()\n",
    "a[0]=54\n",
    "print(a)\n",
    "print(x)"
   ]
  },
  {
   "cell_type": "markdown",
   "id": "eae5804c",
   "metadata": {},
   "source": [
    "# shape of the array : specifies the rows and columns "
   ]
  },
  {
   "cell_type": "code",
   "execution_count": 46,
   "id": "9d551f15",
   "metadata": {},
   "outputs": [
    {
     "data": {
      "text/plain": [
       "(2, 4)"
      ]
     },
     "execution_count": 46,
     "metadata": {},
     "output_type": "execute_result"
    }
   ],
   "source": [
    "import numpy as np\n",
    "a=np.array([[1,2,3,4],[5,6,7,8]])\n",
    "a.shape"
   ]
  },
  {
   "cell_type": "markdown",
   "id": "b7bd8932",
   "metadata": {},
   "source": [
    "# converting 1D array to 2D array : reshape() method is used"
   ]
  },
  {
   "cell_type": "code",
   "execution_count": 48,
   "id": "91a3973f",
   "metadata": {},
   "outputs": [
    {
     "data": {
      "text/plain": [
       "array([[ 1,  2,  3],\n",
       "       [ 4,  5,  6],\n",
       "       [ 7,  8,  9],\n",
       "       [10, 11, 12]])"
      ]
     },
     "execution_count": 48,
     "metadata": {},
     "output_type": "execute_result"
    }
   ],
   "source": [
    "import numpy as np\n",
    "a=np.array([1,2,3,4,5,6,7,8,9,10,11,12])\n",
    "x=a.reshape(4,3)\n",
    "x"
   ]
  },
  {
   "cell_type": "markdown",
   "id": "5ab2a049",
   "metadata": {},
   "source": [
    "# converting 1D array to 3D array :\n",
    "   ## (2,3,2) 2: 2D 3:Rows 2: colums"
   ]
  },
  {
   "cell_type": "code",
   "execution_count": 50,
   "id": "be5ae6b8",
   "metadata": {},
   "outputs": [
    {
     "data": {
      "text/plain": [
       "array([[[ 1,  2],\n",
       "        [ 3,  4],\n",
       "        [ 5,  6]],\n",
       "\n",
       "       [[ 7,  8],\n",
       "        [ 9, 10],\n",
       "        [11, 12]]])"
      ]
     },
     "execution_count": 50,
     "metadata": {},
     "output_type": "execute_result"
    }
   ],
   "source": [
    "import numpy as np\n",
    "a=np.array([1,2,3,4,5,6,7,8,9,10,11,12])\n",
    "x=a.reshape(2,3,2)\n",
    "x"
   ]
  },
  {
   "cell_type": "markdown",
   "id": "5da0261b",
   "metadata": {},
   "source": [
    "# converting 2D array to 1D array :"
   ]
  },
  {
   "cell_type": "code",
   "execution_count": 51,
   "id": "857d20f1",
   "metadata": {},
   "outputs": [
    {
     "data": {
      "text/plain": [
       "array([1, 2, 3, 4, 5, 6, 7, 8])"
      ]
     },
     "execution_count": 51,
     "metadata": {},
     "output_type": "execute_result"
    }
   ],
   "source": [
    "import numpy as np\n",
    "a=np.array([[1,2,3,4],[5,6,7,8]])\n",
    "x=a.reshape(-1)\n",
    "x\n"
   ]
  },
  {
   "cell_type": "markdown",
   "id": "b435f14f",
   "metadata": {},
   "source": [
    "# concatenate: merging of two lists in 1D array"
   ]
  },
  {
   "cell_type": "code",
   "execution_count": 53,
   "id": "1560a195",
   "metadata": {},
   "outputs": [
    {
     "data": {
      "text/plain": [
       "array([ 1,  2,  3,  4,  6,  0, 12,  1])"
      ]
     },
     "execution_count": 53,
     "metadata": {},
     "output_type": "execute_result"
    }
   ],
   "source": [
    "import numpy as np\n",
    "a=np.array([1,2,3,4])\n",
    "b=np.array([6,0,12,1])\n",
    "c=np.concatenate((a,b))\n",
    "c"
   ]
  },
  {
   "cell_type": "markdown",
   "id": "e519136a",
   "metadata": {},
   "source": [
    "# concatenate: merging of two lists in 2D array"
   ]
  },
  {
   "cell_type": "code",
   "execution_count": 54,
   "id": "b559a9b1",
   "metadata": {},
   "outputs": [
    {
     "data": {
      "text/plain": [
       "array([[1, 2],\n",
       "       [5, 6],\n",
       "       [3, 4],\n",
       "       [7, 8]])"
      ]
     },
     "execution_count": 54,
     "metadata": {},
     "output_type": "execute_result"
    }
   ],
   "source": [
    "import numpy as np\n",
    "a=np.array([[1,2],[5,6]])\n",
    "b=np.array([[3,4],[7,8]])\n",
    "c=np.concatenate((a,b))\n",
    "c"
   ]
  },
  {
   "cell_type": "markdown",
   "id": "184fd5f8",
   "metadata": {},
   "source": [
    "# axis : merge the 1st row of 'a' and 1st row of 'b' and merge 2nd row of 'a' and merge 2nd row  of 'b'"
   ]
  },
  {
   "cell_type": "code",
   "execution_count": 60,
   "id": "867ef16f",
   "metadata": {},
   "outputs": [
    {
     "data": {
      "text/plain": [
       "array([[1, 2, 3, 4],\n",
       "       [5, 6, 7, 8]])"
      ]
     },
     "execution_count": 60,
     "metadata": {},
     "output_type": "execute_result"
    }
   ],
   "source": [
    "import numpy as np\n",
    "a=np.array([[1,2],[5,6]])\n",
    "b=np.array([[3,4],[7,8]])\n",
    "c=np.concatenate((a,b), axis=1)\n",
    "c"
   ]
  },
  {
   "cell_type": "code",
   "execution_count": 69,
   "id": "334c319f",
   "metadata": {},
   "outputs": [
    {
     "data": {
      "text/plain": [
       "array([[[1, 2, 3, 4, 0, 1, 1, 4],\n",
       "        [3, 4, 6, 6, 3, 3, 0, 6]],\n",
       "\n",
       "       [[9, 8, 7, 4, 9, 0, 1, 4],\n",
       "        [5, 4, 9, 8, 5, 2, 8, 8]]])"
      ]
     },
     "execution_count": 69,
     "metadata": {},
     "output_type": "execute_result"
    }
   ],
   "source": [
    "import numpy as np\n",
    "a=np.array([[[1,2,3,4],[3,4,6,6]] , [[9,8,7,4],[5,4,9,8]]])\n",
    "b=np.array([[[0,1,1,4],[3,3,0,6]] , [[9,0,1,4],[5,2,8,8]]])\n",
    "c=np.concatenate((a,b), axis=2)\n",
    "c\n"
   ]
  },
  {
   "cell_type": "markdown",
   "id": "8faf672e",
   "metadata": {},
   "source": [
    "# stack method : reverse of concatination \n",
    "# stack method is used to concatenate 2D to 1D array"
   ]
  },
  {
   "cell_type": "code",
   "execution_count": 82,
   "id": "74229920",
   "metadata": {},
   "outputs": [
    {
     "data": {
      "text/plain": [
       "array([[ 1,  6],\n",
       "       [ 2,  0],\n",
       "       [ 3, 12],\n",
       "       [ 4,  1]])"
      ]
     },
     "execution_count": 82,
     "metadata": {},
     "output_type": "execute_result"
    }
   ],
   "source": [
    "import numpy as np\n",
    "a=np.array([1,2,3,4])\n",
    "b=np.array([6,0,12,1])\n",
    "c=np.stack((a,b),axis=1)\n",
    "c"
   ]
  },
  {
   "cell_type": "code",
   "execution_count": 72,
   "id": "a8aded75",
   "metadata": {},
   "outputs": [
    {
     "data": {
      "text/plain": [
       "array([[[[1, 2, 3, 4],\n",
       "         [3, 4, 6, 6]],\n",
       "\n",
       "        [[0, 1, 1, 4],\n",
       "         [3, 3, 0, 6]]],\n",
       "\n",
       "\n",
       "       [[[9, 8, 7, 4],\n",
       "         [5, 4, 9, 8]],\n",
       "\n",
       "        [[9, 0, 1, 4],\n",
       "         [5, 2, 8, 8]]]])"
      ]
     },
     "execution_count": 72,
     "metadata": {},
     "output_type": "execute_result"
    }
   ],
   "source": [
    "import numpy as np\n",
    "a=np.array([[[1,2,3,4],[3,4,6,6]] , [[9,8,7,4],[5,4,9,8]]])\n",
    "b=np.array([[[0,1,1,4],[3,3,0,6]] , [[9,0,1,4],[5,2,8,8]]])\n",
    "c=np.stack((a,b), axis=1)\n",
    "c"
   ]
  },
  {
   "cell_type": "markdown",
   "id": "21f743b7",
   "metadata": {},
   "source": [
    "# math.lib : low level  graph library to install use pip install matplotlib"
   ]
  },
  {
   "cell_type": "code",
   "execution_count": 79,
   "id": "1b8fd43d",
   "metadata": {},
   "outputs": [
    {
     "name": "stdout",
     "output_type": "stream",
     "text": [
      "Requirement already satisfied: matplotlib in c:\\users\\kavya\\anaconda3\\lib\\site-packages (3.3.4)\n",
      "Requirement already satisfied: cycler>=0.10 in c:\\users\\kavya\\anaconda3\\lib\\site-packages (from matplotlib) (0.10.0)\n",
      "Requirement already satisfied: kiwisolver>=1.0.1 in c:\\users\\kavya\\anaconda3\\lib\\site-packages (from matplotlib) (1.3.1)\n",
      "Requirement already satisfied: pillow>=6.2.0 in c:\\users\\kavya\\anaconda3\\lib\\site-packages (from matplotlib) (8.2.0)\n",
      "Requirement already satisfied: python-dateutil>=2.1 in c:\\users\\kavya\\anaconda3\\lib\\site-packages (from matplotlib) (2.8.1)\n",
      "Requirement already satisfied: pyparsing!=2.0.4,!=2.1.2,!=2.1.6,>=2.0.3 in c:\\users\\kavya\\anaconda3\\lib\\site-packages (from matplotlib) (2.4.7)\n",
      "Requirement already satisfied: numpy>=1.15 in c:\\users\\kavya\\anaconda3\\lib\\site-packages (from matplotlib) (1.20.1)\n",
      "Requirement already satisfied: six in c:\\users\\kavya\\anaconda3\\lib\\site-packages (from cycler>=0.10->matplotlib) (1.15.0)\n",
      "Note: you may need to restart the kernel to use updated packages.\n"
     ]
    }
   ],
   "source": [
    "pip install matplotlib"
   ]
  },
  {
   "cell_type": "code",
   "execution_count": 81,
   "id": "52b7620a",
   "metadata": {},
   "outputs": [
    {
     "data": {
      "image/png": "[encoded data removed]",
      "text/plain": [
       "<Figure size 432x288 with 1 Axes>"
      ]
     },
     "metadata": {
      "needs_background": "light"
     },
     "output_type": "display_data"
    }
   ],
   "source": [
    "import matplotlib.pyplot as plt\n",
    "import numpy as np\n",
    "x=np.array([1,2,6,8])\n",
    "y=np.array([3,8,1,10])\n",
    "plt.plot(x,y)\n",
    "plt.show()\n"
   ]
  },
  {
   "cell_type": "markdown",
   "id": "0e4843e6",
   "metadata": {},
   "source": [
    "# merker size(ms) used to set the intervals."
   ]
  },
  {
   "cell_type": "code",
   "execution_count": null,
   "id": "0ebea8cb",
   "metadata": {},
   "outputs": [],
   "source": []
  }
 ],
 "metadata": {
  "kernelspec": {
   "display_name": "Python 3",
   "language": "python",
   "name": "python3"
  },
  "language_info": {
   "codemirror_mode": {
    "name": "ipython",
    "version": 3
   },
   "file_extension": ".py",
   "mimetype": "text/x-python",
   "name": "python",
   "nbconvert_exporter": "python",
   "pygments_lexer": "ipython3",
   "version": "3.8.8"
  }
 },
 "nbformat": 4,
 "nbformat_minor": 5
}
