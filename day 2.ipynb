{
 "cells": [
  {
   "cell_type": "markdown",
   "id": "f6ea3f5b",
   "metadata": {},
   "source": [
    "\n",
    "# to move next line in cell press enter\n",
    "# to run press Shift enter key\n",
    "### Below ststement is to find sub of x and y"
   ]
  },
  {
   "cell_type": "code",
   "execution_count": 7,
   "id": "51d15d19",
   "metadata": {},
   "outputs": [
    {
     "name": "stdout",
     "output_type": "stream",
     "text": [
      "71\n"
     ]
    }
   ],
   "source": [
    "x=10\n",
    "y=61\n",
    "print(x+y)"
   ]
  },
  {
   "cell_type": "markdown",
   "id": "bf77e6ed",
   "metadata": {},
   "source": [
    "## list is ordered elements mutable\n",
    "### #immutable:once we created it cant be change "
   ]
  },
  {
   "cell_type": "markdown",
   "id": "a792c097",
   "metadata": {},
   "source": [
    "list 2 methods "
   ]
  },
  {
   "cell_type": "code",
   "execution_count": 8,
   "id": "783202c4",
   "metadata": {},
   "outputs": [
    {
     "name": "stdout",
     "output_type": "stream",
     "text": [
      "['apple', 'banana', 'cherr']\n"
     ]
    }
   ],
   "source": [
    "mlist=[\"apple\",\"banana\",\"cherr\"]\n",
    "print(mlist)"
   ]
  },
  {
   "cell_type": "code",
   "execution_count": 11,
   "id": "7dcb8deb",
   "metadata": {},
   "outputs": [
    {
     "data": {
      "text/plain": [
       "['apple', 'banana', 'cherry']"
      ]
     },
     "execution_count": 11,
     "metadata": {},
     "output_type": "execute_result"
    }
   ],
   "source": [
    "mlist=[\"apple\",\"banana\",\"cherry\"]\n",
    "mlist\n"
   ]
  },
  {
   "cell_type": "markdown",
   "id": "079650f4",
   "metadata": {},
   "source": [
    "# finding length of list\n"
   ]
  },
  {
   "cell_type": "code",
   "execution_count": 12,
   "id": "a32cad46",
   "metadata": {},
   "outputs": [
    {
     "data": {
      "text/plain": [
       "3"
      ]
     },
     "execution_count": 12,
     "metadata": {},
     "output_type": "execute_result"
    }
   ],
   "source": [
    "len(mlist)"
   ]
  },
  {
   "cell_type": "code",
   "execution_count": 13,
   "id": "ce95a847",
   "metadata": {},
   "outputs": [],
   "source": [
    "mlist1=[\"apple\",\"banana\",\"cherr\"]\n",
    "mlist2=[10,20,30]\n",
    "mlist3=[True,False]\n",
    "mlist4=[\"xyz\",34,False,4.5]"
   ]
  },
  {
   "cell_type": "markdown",
   "id": "2884e02a",
   "metadata": {},
   "source": [
    "## To known thelist of the list "
   ]
  },
  {
   "cell_type": "code",
   "execution_count": 14,
   "id": "d2aa412d",
   "metadata": {},
   "outputs": [
    {
     "name": "stdout",
     "output_type": "stream",
     "text": [
      "<class 'list'>\n"
     ]
    }
   ],
   "source": [
    "print(type(mlist2))"
   ]
  },
  {
   "cell_type": "markdown",
   "id": "17c91c8a",
   "metadata": {},
   "source": [
    "### constructor :function to initialze  a new list  use parathisis to define the list "
   ]
  },
  {
   "cell_type": "code",
   "execution_count": 15,
   "id": "a04ec0c9",
   "metadata": {},
   "outputs": [
    {
     "data": {
      "text/plain": [
       "['apple', 'banana', 'cherr']"
      ]
     },
     "execution_count": 15,
     "metadata": {},
     "output_type": "execute_result"
    }
   ],
   "source": [
    "mlist5=list((\"apple\",\"banana\",\"cherr\"))\n",
    "mlist5"
   ]
  },
  {
   "cell_type": "markdown",
   "id": "cfcfd8fd",
   "metadata": {},
   "source": [
    "## how to access the element in the list ,it can done by index value.\n",
    "## but in python \n",
    "## acces by 2 methods \n",
    "## 1. by index\n",
    "## 2. by negative index ( accesing in reverse order)"
   ]
  },
  {
   "cell_type": "code",
   "execution_count": 16,
   "id": "edd58351",
   "metadata": {},
   "outputs": [
    {
     "data": {
      "text/plain": [
       "'banana'"
      ]
     },
     "execution_count": 16,
     "metadata": {},
     "output_type": "execute_result"
    }
   ],
   "source": [
    "mlist[1]"
   ]
  },
  {
   "cell_type": "code",
   "execution_count": 20,
   "id": "77113b52",
   "metadata": {},
   "outputs": [
    {
     "name": "stdout",
     "output_type": "stream",
     "text": [
      "['apple', 'banana', 'cherry']\n"
     ]
    }
   ],
   "source": [
    "mlist=[\"apple\",\"banana\",\"cherry\"]\n",
    "print(mlist)"
   ]
  },
  {
   "cell_type": "code",
   "execution_count": 18,
   "id": "0865122f",
   "metadata": {},
   "outputs": [
    {
     "data": {
      "text/plain": [
       "'banana'"
      ]
     },
     "execution_count": 18,
     "metadata": {},
     "output_type": "execute_result"
    }
   ],
   "source": [
    "mlist[1]"
   ]
  },
  {
   "cell_type": "code",
   "execution_count": 19,
   "id": "d0fabb45",
   "metadata": {},
   "outputs": [
    {
     "data": {
      "text/plain": [
       "'cherr'"
      ]
     },
     "execution_count": 19,
     "metadata": {},
     "output_type": "execute_result"
    }
   ],
   "source": [
    "mlist[-1]"
   ]
  },
  {
   "cell_type": "code",
   "execution_count": 21,
   "id": "ec363fe8",
   "metadata": {},
   "outputs": [
    {
     "data": {
      "text/plain": [
       "'cherry'"
      ]
     },
     "execution_count": 21,
     "metadata": {},
     "output_type": "execute_result"
    }
   ],
   "source": [
    "mlist[-1]"
   ]
  },
  {
   "cell_type": "markdown",
   "id": "17562272",
   "metadata": {},
   "source": [
    "## Slicing used to display a list of element , it will print from start number and upto the last element but not print the last element "
   ]
  },
  {
   "cell_type": "code",
   "execution_count": 25,
   "id": "678c9a98",
   "metadata": {},
   "outputs": [
    {
     "data": {
      "text/plain": [
       "['cherry', 'orange', 'kiwi']"
      ]
     },
     "execution_count": 25,
     "metadata": {},
     "output_type": "execute_result"
    }
   ],
   "source": [
    "mlist=[\"apple\",\"banana\",\"cherry\",\"orange\",\"kiwi\",\"Melon\",\"mango\"]\n",
    "mlist[2:5]"
   ]
  },
  {
   "cell_type": "code",
   "execution_count": 24,
   "id": "8417509f",
   "metadata": {},
   "outputs": [
    {
     "data": {
      "text/plain": [
       "['apple', 'banana', 'cherry', 'orange', 'kiwi']"
      ]
     },
     "execution_count": 24,
     "metadata": {},
     "output_type": "execute_result"
    }
   ],
   "source": [
    "mlist[:5]\n"
   ]
  },
  {
   "cell_type": "markdown",
   "id": "e19a9a18",
   "metadata": {},
   "source": [
    "##  print 2nd element and rest element "
   ]
  },
  {
   "cell_type": "code",
   "execution_count": 26,
   "id": "53f25074",
   "metadata": {},
   "outputs": [
    {
     "data": {
      "text/plain": [
       "['cherry', 'orange', 'kiwi', 'Melon', 'mango']"
      ]
     },
     "execution_count": 26,
     "metadata": {},
     "output_type": "execute_result"
    }
   ],
   "source": [
    "mlist[2:]"
   ]
  },
  {
   "cell_type": "markdown",
   "id": "25be5a7d",
   "metadata": {},
   "source": [
    "# negative indexing last element not included "
   ]
  },
  {
   "cell_type": "code",
   "execution_count": 27,
   "id": "d90fb9e8",
   "metadata": {},
   "outputs": [
    {
     "data": {
      "text/plain": [
       "['orange', 'kiwi', 'Melon']"
      ]
     },
     "execution_count": 27,
     "metadata": {},
     "output_type": "execute_result"
    }
   ],
   "source": [
    "mlist=[\"apple\",\"banana\",\"cherry\",\"orange\",\"kiwi\",\"Melon\",\"mango\"]\n",
    "mlist[-4:-1]"
   ]
  },
  {
   "cell_type": "markdown",
   "id": "d499625a",
   "metadata": {},
   "source": [
    "# to check if key is present in the list  (colon is important is if statement)"
   ]
  },
  {
   "cell_type": "code",
   "execution_count": 28,
   "id": "e3b451c2",
   "metadata": {},
   "outputs": [
    {
     "name": "stdout",
     "output_type": "stream",
     "text": [
      "yes element is prenent in the list\n"
     ]
    }
   ],
   "source": [
    "mlist=[\"apple\",\"banana\",\"cherry\",\"orange\",\"kiwi\",\"Melon\",\"mango\"]\n",
    "if \"kiwi\" in mlist:\n",
    "    print(\"yes element is prenent in the list\")"
   ]
  },
  {
   "cell_type": "markdown",
   "id": "9d68c887",
   "metadata": {},
   "source": [
    "# to insert a new element in list without repalce a element in the list "
   ]
  },
  {
   "cell_type": "code",
   "execution_count": 29,
   "id": "2ed05637",
   "metadata": {},
   "outputs": [
    {
     "data": {
      "text/plain": [
       "['apple', 'banana', 'mango', 'cherr']"
      ]
     },
     "execution_count": 29,
     "metadata": {},
     "output_type": "execute_result"
    }
   ],
   "source": [
    "mlist=[\"apple\",\"banana\",\"cherr\"]\n",
    "mlist.insert(2,\"mango\")\n",
    "mlist\n"
   ]
  },
  {
   "cell_type": "markdown",
   "id": "68f866b2",
   "metadata": {},
   "source": [
    "# to insert  a element at the end (append method)"
   ]
  },
  {
   "cell_type": "code",
   "execution_count": 30,
   "id": "f3ee2ca8",
   "metadata": {},
   "outputs": [
    {
     "data": {
      "text/plain": [
       "['apple', 'banana', 'mango', 'cherr', 'orange']"
      ]
     },
     "execution_count": 30,
     "metadata": {},
     "output_type": "execute_result"
    }
   ],
   "source": [
    "mlist.append(\"orange\")\n",
    "mlist"
   ]
  },
  {
   "cell_type": "markdown",
   "id": "5f135187",
   "metadata": {},
   "source": [
    "# extend method : means a merging of two list "
   ]
  },
  {
   "cell_type": "code",
   "execution_count": 32,
   "id": "66cc693b",
   "metadata": {},
   "outputs": [
    {
     "data": {
      "text/plain": [
       "['apple', 'banana', 'cherry', 'orange', 'kiwi', 'melon']"
      ]
     },
     "execution_count": 32,
     "metadata": {},
     "output_type": "execute_result"
    }
   ],
   "source": [
    "mlist1=[\"apple\",\"banana\",\"cherry\"]\n",
    "mlist2=[\"orange\",\"kiwi\",\"melon\"]\n",
    "mlist1.extend(mlist2)\n",
    "mlist1"
   ]
  },
  {
   "cell_type": "markdown",
   "id": "f7f0c4fd",
   "metadata": {},
   "source": [
    "# hence list a mutable so we can modify or change or delete  the elements in the list \n"
   ]
  },
  {
   "cell_type": "markdown",
   "id": "d1279ac9",
   "metadata": {},
   "source": [
    "  # delete operation in list \n",
    "  ## specify by name  by remove method \n",
    "  ## pop method (by specifing the index if we not specify the            index it         pop the last element \n",
    "  ## del method is used \n",
    "  ## to clear the whole list (clear method is used)"
   ]
  },
  {
   "cell_type": "code",
   "execution_count": 35,
   "id": "9643a579",
   "metadata": {},
   "outputs": [
    {
     "data": {
      "text/plain": [
       "['apple', 'banana']"
      ]
     },
     "execution_count": 35,
     "metadata": {},
     "output_type": "execute_result"
    }
   ],
   "source": [
    "mlist5=[\"apple\",\"banana\",\"cherry\"]\n",
    "mlist5.remove(\"cherry\")\n",
    "mlist5"
   ]
  },
  {
   "cell_type": "code",
   "execution_count": 36,
   "id": "6234f921",
   "metadata": {},
   "outputs": [
    {
     "data": {
      "text/plain": [
       "['apple']"
      ]
     },
     "execution_count": 36,
     "metadata": {},
     "output_type": "execute_result"
    }
   ],
   "source": [
    "mlist5.pop(1)\n",
    "mlist5"
   ]
  },
  {
   "cell_type": "code",
   "execution_count": 37,
   "id": "1fe31a52",
   "metadata": {},
   "outputs": [
    {
     "data": {
      "text/plain": [
       "[]"
      ]
     },
     "execution_count": 37,
     "metadata": {},
     "output_type": "execute_result"
    }
   ],
   "source": [
    "mlist5.pop()\n",
    "mlist5\n"
   ]
  },
  {
   "cell_type": "code",
   "execution_count": 38,
   "id": "713334c6",
   "metadata": {},
   "outputs": [
    {
     "data": {
      "text/plain": [
       "['apple', 'banana', 'cherry']"
      ]
     },
     "execution_count": 38,
     "metadata": {},
     "output_type": "execute_result"
    }
   ],
   "source": [
    "mlist1=[\"apple\",\"banana\",\"cherry\"]\n",
    "del mlist[0]\n",
    "mlist1\n"
   ]
  },
  {
   "cell_type": "code",
   "execution_count": 39,
   "id": "23d15b60",
   "metadata": {},
   "outputs": [
    {
     "data": {
      "text/plain": [
       "['mango', 'cherr', 'orange']"
      ]
     },
     "execution_count": 39,
     "metadata": {},
     "output_type": "execute_result"
    }
   ],
   "source": [
    "del mlist[0]\n",
    "mlist"
   ]
  },
  {
   "cell_type": "code",
   "execution_count": 40,
   "id": "83f400e6",
   "metadata": {},
   "outputs": [
    {
     "data": {
      "text/plain": [
       "['banana', 'cherry']"
      ]
     },
     "execution_count": 40,
     "metadata": {},
     "output_type": "execute_result"
    }
   ],
   "source": [
    "del mlist1[0]\n",
    "mlist1\n"
   ]
  },
  {
   "cell_type": "markdown",
   "id": "16554c84",
   "metadata": {},
   "source": [
    "# to make a empty list ( clear method is used )"
   ]
  },
  {
   "cell_type": "code",
   "execution_count": 41,
   "id": "33c52c74",
   "metadata": {},
   "outputs": [
    {
     "data": {
      "text/plain": [
       "[]"
      ]
     },
     "execution_count": 41,
     "metadata": {},
     "output_type": "execute_result"
    }
   ],
   "source": [
    "mlist1=[\"apple\",\"banana\",\"cherry\"]\n",
    "mlist1.clear()\n",
    "mlist1"
   ]
  },
  {
   "cell_type": "markdown",
   "id": "64238846",
   "metadata": {},
   "source": [
    "# sorting method \n",
    "## rever =true method "
   ]
  },
  {
   "cell_type": "code",
   "execution_count": 44,
   "id": "a17885f3",
   "metadata": {},
   "outputs": [
    {
     "data": {
      "text/plain": [
       "['orange', 'melon', 'mango', 'kiwi', 'cherry', 'banana', 'apple']"
      ]
     },
     "execution_count": 44,
     "metadata": {},
     "output_type": "execute_result"
    }
   ],
   "source": [
    "mlist=[\"apple\",\"cherry\",\"kiwi\",\"melon\",\"mango\",\"orange\",\"banana\"]\n",
    "mlist.sort(reverse=True)\n",
    "mlist"
   ]
  },
  {
   "cell_type": "code",
   "execution_count": 45,
   "id": "b2c89c1f",
   "metadata": {},
   "outputs": [
    {
     "data": {
      "text/plain": [
       "['apple', 'banana', 'cherry', 'kiwi', 'mango', 'melon', 'orange']"
      ]
     },
     "execution_count": 45,
     "metadata": {},
     "output_type": "execute_result"
    }
   ],
   "source": [
    "mlist.reverse()\n",
    "mlist"
   ]
  },
  {
   "cell_type": "code",
   "execution_count": 46,
   "id": "f7a1ebf6",
   "metadata": {},
   "outputs": [
    {
     "data": {
      "text/plain": [
       "['banana', 'orange', 'mango', 'melon', 'kiwi', 'cherry', 'apple']"
      ]
     },
     "execution_count": 46,
     "metadata": {},
     "output_type": "execute_result"
    }
   ],
   "source": [
    "mlist=[\"apple\",\"cherry\",\"kiwi\",\"melon\",\"mango\",\"orange\",\"banana\"]\n",
    "mlist.reverse()\n",
    "mlist"
   ]
  },
  {
   "cell_type": "markdown",
   "id": "a1b6381c",
   "metadata": {},
   "source": [
    " # while we copy a list to new list , whatever the cahnes that we change the whole chenge in new list also"
   ]
  },
  {
   "cell_type": "code",
   "execution_count": 49,
   "id": "70d13695",
   "metadata": {},
   "outputs": [
    {
     "data": {
      "text/plain": [
       "['oragne', 'kiwi', 'melon']"
      ]
     },
     "execution_count": 49,
     "metadata": {},
     "output_type": "execute_result"
    }
   ],
   "source": [
    "mlist=[\"oragne\",\"kiwi\",\"melon\"]\n",
    "nlist=mlist.copy()\n",
    "mlist \n",
    "nlist\n"
   ]
  },
  {
   "cell_type": "code",
   "execution_count": 50,
   "id": "c594adc3",
   "metadata": {},
   "outputs": [
    {
     "data": {
      "text/plain": [
       "['oragne', 'kiwi', 'melon']"
      ]
     },
     "execution_count": 50,
     "metadata": {},
     "output_type": "execute_result"
    }
   ],
   "source": [
    "mlist"
   ]
  },
  {
   "cell_type": "code",
   "execution_count": 51,
   "id": "c39a9732",
   "metadata": {},
   "outputs": [
    {
     "data": {
      "text/plain": [
       "['oragne', 'kiwi', 'melon']"
      ]
     },
     "execution_count": 51,
     "metadata": {},
     "output_type": "execute_result"
    }
   ],
   "source": [
    "nlist"
   ]
  },
  {
   "cell_type": "markdown",
   "id": "ef8b9472",
   "metadata": {},
   "source": [
    "# copying by constructor"
   ]
  },
  {
   "cell_type": "code",
   "execution_count": 52,
   "id": "259d256c",
   "metadata": {},
   "outputs": [
    {
     "data": {
      "text/plain": [
       "['oragne', 'kiwi', 'melon']"
      ]
     },
     "execution_count": 52,
     "metadata": {},
     "output_type": "execute_result"
    }
   ],
   "source": [
    "mlist=[\"oragne\",\"kiwi\",\"melon\"]\n",
    "nlist=mlist.copy()\n",
    "mlist.append(\"mango\") \n",
    "nlist"
   ]
  },
  {
   "cell_type": "code",
   "execution_count": 53,
   "id": "2260c5f0",
   "metadata": {},
   "outputs": [
    {
     "data": {
      "text/plain": [
       "['oragne', 'kiwi', 'melon', 'mango']"
      ]
     },
     "execution_count": 53,
     "metadata": {},
     "output_type": "execute_result"
    }
   ],
   "source": [
    "mlist\n"
   ]
  },
  {
   "cell_type": "code",
   "execution_count": 54,
   "id": "551de995",
   "metadata": {},
   "outputs": [
    {
     "data": {
      "text/plain": [
       "['oragne', 'kiwi', 'melon']"
      ]
     },
     "execution_count": 54,
     "metadata": {},
     "output_type": "execute_result"
    }
   ],
   "source": [
    "nlist"
   ]
  },
  {
   "cell_type": "code",
   "execution_count": 55,
   "id": "450a53ed",
   "metadata": {},
   "outputs": [
    {
     "data": {
      "text/plain": [
       "['oragne', 'kiwi', 'melon']"
      ]
     },
     "execution_count": 55,
     "metadata": {},
     "output_type": "execute_result"
    }
   ],
   "source": [
    "mlist=[\"oragne\",\"kiwi\",\"melon\"]\n",
    "nlist=list(mlist)\n",
    "mlist.append(\"mango\") \n",
    "nlist"
   ]
  },
  {
   "cell_type": "code",
   "execution_count": 56,
   "id": "ea813d97",
   "metadata": {},
   "outputs": [
    {
     "data": {
      "text/plain": [
       "['oragne', 'kiwi', 'melon', 'mango']"
      ]
     },
     "execution_count": 56,
     "metadata": {},
     "output_type": "execute_result"
    }
   ],
   "source": [
    "mlist"
   ]
  },
  {
   "cell_type": "code",
   "execution_count": 57,
   "id": "172a3fd4",
   "metadata": {},
   "outputs": [
    {
     "data": {
      "text/plain": [
       "['oragne', 'kiwi', 'melon']"
      ]
     },
     "execution_count": 57,
     "metadata": {},
     "output_type": "execute_result"
    }
   ],
   "source": [
    "nlist"
   ]
  },
  {
   "cell_type": "markdown",
   "id": "7f0149b3",
   "metadata": {},
   "source": [
    "# merge to list and save in another list "
   ]
  },
  {
   "cell_type": "code",
   "execution_count": 58,
   "id": "ec04e0d8",
   "metadata": {},
   "outputs": [
    {
     "data": {
      "text/plain": [
       "['oragne', 'kiwi', 'melon', 10, 20, 30]"
      ]
     },
     "execution_count": 58,
     "metadata": {},
     "output_type": "execute_result"
    }
   ],
   "source": [
    "mlist=[\"oragne\",\"kiwi\",\"melon\"]\n",
    "nlist=[10,20,30]\n",
    "slist=mlist+nlist\n",
    "slist\n"
   ]
  },
  {
   "cell_type": "markdown",
   "id": "30108132",
   "metadata": {},
   "source": [
    "# count the number of elemnets prresent in the list \n"
   ]
  },
  {
   "cell_type": "code",
   "execution_count": 59,
   "id": "4cd6708b",
   "metadata": {},
   "outputs": [
    {
     "data": {
      "text/plain": [
       "2"
      ]
     },
     "execution_count": 59,
     "metadata": {},
     "output_type": "execute_result"
    }
   ],
   "source": [
    "mlist=[\"apple\",\"cherry\",\"kiwi\",\"melon\",\"mango\",\"orange\",\"banana\",\"orange\"]\n",
    "x=mlist.count(\"orange\")\n",
    "x"
   ]
  },
  {
   "cell_type": "markdown",
   "id": "6c4a093a",
   "metadata": {},
   "source": [
    "# numpy\n",
    "### python library\n",
    "### numberical python \n",
    "### various method \n",
    "### basic numpy and randon numpy and universal \n",
    "### numpy py works with array and process\n",
    "# differece b/w numpy and list \n",
    "### dont store the element continusly \n",
    "### numpy works fast than list they r more packages \n",
    "### list does not process a large amount of data \n",
    "### processsing speed ----fast in numpy\n",
    "### ploting of graph ----can be done in numpy\n"
   ]
  },
  {
   "cell_type": "code",
   "execution_count": 60,
   "id": "224a99cb",
   "metadata": {},
   "outputs": [
    {
     "name": "stdout",
     "output_type": "stream",
     "text": [
      "Requirement already satisfied: numpy in c:\\users\\kavya\\anaconda3\\lib\\site-packages (1.20.1)Note: you may need to restart the kernel to use updated packages.\n",
      "\n"
     ]
    }
   ],
   "source": [
    "pip install numpy"
   ]
  },
  {
   "cell_type": "code",
   "execution_count": 61,
   "id": "e58fb7ba",
   "metadata": {},
   "outputs": [
    {
     "name": "stdout",
     "output_type": "stream",
     "text": [
      "Requirement already satisfied: numpy in c:\\users\\kavya\\anaconda3\\lib\\site-packages (1.20.1)\n",
      "Note: you may need to restart the kernel to use updated packages.\n"
     ]
    }
   ],
   "source": [
    "pip install numpy"
   ]
  },
  {
   "cell_type": "code",
   "execution_count": 62,
   "id": "000a4ed9",
   "metadata": {},
   "outputs": [
    {
     "name": "stdout",
     "output_type": "stream",
     "text": [
      "\n",
      "Note: you may need to restart the kernel to use updated packages.Collecting package metadata (current_repodata.json): ...working... done\n",
      "\n",
      "Solving environment: ...working... done\n",
      "\n",
      "## Package Plan ##\n",
      "\n",
      "  environment location: C:\\Users\\KAVYA\\anaconda3\n",
      "\n",
      "  added / updated specs:\n",
      "    - numpy\n",
      "\n",
      "\n",
      "The following packages will be downloaded:\n",
      "\n",
      "    package                    |            build\n",
      "    ---------------------------|-----------------\n",
      "    conda-4.10.3               |   py38haa95532_0         2.9 MB\n",
      "    ------------------------------------------------------------\n",
      "                                           Total:         2.9 MB\n",
      "\n",
      "The following packages will be UPDATED:\n",
      "\n",
      "  conda                               4.10.1-py38haa95532_1 --> 4.10.3-py38haa95532_0\n",
      "\n",
      "\n",
      "\n",
      "Downloading and Extracting Packages\n",
      "\n",
      "conda-4.10.3         | 2.9 MB    |            |   0% \n",
      "conda-4.10.3         | 2.9 MB    |            |   1% \n",
      "conda-4.10.3         | 2.9 MB    | 1          |   1% \n",
      "conda-4.10.3         | 2.9 MB    | 1          |   2% \n",
      "conda-4.10.3         | 2.9 MB    | 2          |   2% \n",
      "conda-4.10.3         | 2.9 MB    | 2          |   3% \n",
      "conda-4.10.3         | 2.9 MB    | 3          |   3% \n",
      "conda-4.10.3         | 2.9 MB    | 3          |   4% \n",
      "conda-4.10.3         | 2.9 MB    | 4          |   4% \n",
      "conda-4.10.3         | 2.9 MB    | 4          |   5% \n",
      "conda-4.10.3         | 2.9 MB    | 5          |   5% \n",
      "conda-4.10.3         | 2.9 MB    | 5          |   6% \n",
      "conda-4.10.3         | 2.9 MB    | 6          |   7% \n",
      "conda-4.10.3         | 2.9 MB    | 7          |   7% \n",
      "conda-4.10.3         | 2.9 MB    | 7          |   8% \n",
      "conda-4.10.3         | 2.9 MB    | 8          |   8% \n",
      "conda-4.10.3         | 2.9 MB    | 8          |   9% \n",
      "conda-4.10.3         | 2.9 MB    | 9          |   9% \n",
      "conda-4.10.3         | 2.9 MB    | 9          |  10% \n",
      "conda-4.10.3         | 2.9 MB    | #          |  10% \n",
      "conda-4.10.3         | 2.9 MB    | #          |  11% \n",
      "conda-4.10.3         | 2.9 MB    | #1         |  11% \n",
      "conda-4.10.3         | 2.9 MB    | #1         |  12% \n",
      "conda-4.10.3         | 2.9 MB    | #2         |  13% \n",
      "conda-4.10.3         | 2.9 MB    | #3         |  13% \n",
      "conda-4.10.3         | 2.9 MB    | #3         |  14% \n",
      "conda-4.10.3         | 2.9 MB    | #4         |  14% \n",
      "conda-4.10.3         | 2.9 MB    | #4         |  15% \n",
      "conda-4.10.3         | 2.9 MB    | #5         |  15% \n",
      "conda-4.10.3         | 2.9 MB    | #5         |  16% \n",
      "conda-4.10.3         | 2.9 MB    | #6         |  16% \n",
      "conda-4.10.3         | 2.9 MB    | #6         |  17% \n",
      "conda-4.10.3         | 2.9 MB    | #7         |  17% \n",
      "conda-4.10.3         | 2.9 MB    | #7         |  18% \n",
      "conda-4.10.3         | 2.9 MB    | #8         |  19% \n",
      "conda-4.10.3         | 2.9 MB    | #9         |  19% \n",
      "conda-4.10.3         | 2.9 MB    | #9         |  20% \n",
      "conda-4.10.3         | 2.9 MB    | ##         |  20% \n",
      "conda-4.10.3         | 2.9 MB    | ##         |  21% \n",
      "conda-4.10.3         | 2.9 MB    | ##1        |  21% \n",
      "conda-4.10.3         | 2.9 MB    | ##1        |  22% \n",
      "conda-4.10.3         | 2.9 MB    | ##2        |  22% \n",
      "conda-4.10.3         | 2.9 MB    | ##2        |  23% \n",
      "conda-4.10.3         | 2.9 MB    | ##3        |  23% \n",
      "conda-4.10.3         | 2.9 MB    | ##3        |  24% \n",
      "conda-4.10.3         | 2.9 MB    | ##4        |  25% \n",
      "conda-4.10.3         | 2.9 MB    | ##5        |  25% \n",
      "conda-4.10.3         | 2.9 MB    | ##5        |  26% \n",
      "conda-4.10.3         | 2.9 MB    | ##6        |  26% \n",
      "conda-4.10.3         | 2.9 MB    | ##6        |  27% \n",
      "conda-4.10.3         | 2.9 MB    | ##7        |  27% \n",
      "conda-4.10.3         | 2.9 MB    | ##7        |  28% \n",
      "conda-4.10.3         | 2.9 MB    | ##8        |  28% \n",
      "conda-4.10.3         | 2.9 MB    | ##8        |  29% \n",
      "conda-4.10.3         | 2.9 MB    | ##9        |  29% \n",
      "conda-4.10.3         | 2.9 MB    | ##9        |  30% \n",
      "conda-4.10.3         | 2.9 MB    | ###        |  30% \n",
      "conda-4.10.3         | 2.9 MB    | ###1       |  31% \n",
      "conda-4.10.3         | 2.9 MB    | ###1       |  32% \n",
      "conda-4.10.3         | 2.9 MB    | ###2       |  32% \n",
      "conda-4.10.3         | 2.9 MB    | ###2       |  33% \n",
      "conda-4.10.3         | 2.9 MB    | ###3       |  33% \n",
      "conda-4.10.3         | 2.9 MB    | ###3       |  34% \n",
      "conda-4.10.3         | 2.9 MB    | ###4       |  34% \n",
      "conda-4.10.3         | 2.9 MB    | ###4       |  35% \n",
      "conda-4.10.3         | 2.9 MB    | ###5       |  35% \n",
      "conda-4.10.3         | 2.9 MB    | ###5       |  36% \n",
      "conda-4.10.3         | 2.9 MB    | ###6       |  36% \n",
      "conda-4.10.3         | 2.9 MB    | ###7       |  37% \n",
      "conda-4.10.3         | 2.9 MB    | ###7       |  38% \n",
      "conda-4.10.3         | 2.9 MB    | ###8       |  38% \n",
      "conda-4.10.3         | 2.9 MB    | ###8       |  39% \n",
      "conda-4.10.3         | 2.9 MB    | ###9       |  39% \n",
      "conda-4.10.3         | 2.9 MB    | ###9       |  40% \n",
      "conda-4.10.3         | 2.9 MB    | ####       |  40% \n",
      "conda-4.10.3         | 2.9 MB    | ####       |  41% \n",
      "conda-4.10.3         | 2.9 MB    | ####1      |  41% \n",
      "conda-4.10.3         | 2.9 MB    | ####1      |  42% \n",
      "conda-4.10.3         | 2.9 MB    | ####2      |  42% \n",
      "conda-4.10.3         | 2.9 MB    | ####3      |  43% \n",
      "conda-4.10.3         | 2.9 MB    | ####3      |  44% \n",
      "conda-4.10.3         | 2.9 MB    | ####4      |  44% \n",
      "conda-4.10.3         | 2.9 MB    | ####4      |  45% \n",
      "conda-4.10.3         | 2.9 MB    | ####5      |  45% \n",
      "conda-4.10.3         | 2.9 MB    | ####5      |  46% \n",
      "conda-4.10.3         | 2.9 MB    | ####6      |  46% \n",
      "conda-4.10.3         | 2.9 MB    | ####6      |  47% \n",
      "conda-4.10.3         | 2.9 MB    | ####7      |  47% \n",
      "conda-4.10.3         | 2.9 MB    | ####7      |  48% \n",
      "conda-4.10.3         | 2.9 MB    | ####8      |  48% \n",
      "conda-4.10.3         | 2.9 MB    | ####9      |  49% \n",
      "conda-4.10.3         | 2.9 MB    | ####9      |  50% \n",
      "conda-4.10.3         | 2.9 MB    | #####      |  50% \n",
      "conda-4.10.3         | 2.9 MB    | #####      |  51% \n",
      "conda-4.10.3         | 2.9 MB    | #####1     |  51% \n",
      "conda-4.10.3         | 2.9 MB    | #####1     |  52% \n",
      "conda-4.10.3         | 2.9 MB    | #####2     |  52% \n",
      "conda-4.10.3         | 2.9 MB    | #####2     |  53% \n",
      "conda-4.10.3         | 2.9 MB    | #####3     |  53% \n",
      "conda-4.10.3         | 2.9 MB    | #####3     |  54% \n",
      "conda-4.10.3         | 2.9 MB    | #####4     |  54% \n",
      "conda-4.10.3         | 2.9 MB    | #####5     |  55% \n",
      "conda-4.10.3         | 2.9 MB    | #####5     |  56% \n",
      "conda-4.10.3         | 2.9 MB    | #####6     |  56% \n",
      "conda-4.10.3         | 2.9 MB    | #####6     |  57% \n",
      "conda-4.10.3         | 2.9 MB    | #####7     |  57% \n",
      "conda-4.10.3         | 2.9 MB    | #####7     |  58% \n",
      "conda-4.10.3         | 2.9 MB    | #####8     |  58% \n",
      "conda-4.10.3         | 2.9 MB    | #####8     |  59% \n",
      "conda-4.10.3         | 2.9 MB    | #####9     |  60% \n",
      "conda-4.10.3         | 2.9 MB    | ######     |  60% \n",
      "conda-4.10.3         | 2.9 MB    | ######     |  61% \n",
      "conda-4.10.3         | 2.9 MB    | ######1    |  62% \n",
      "conda-4.10.3         | 2.9 MB    | ######2    |  62% \n",
      "conda-4.10.3         | 2.9 MB    | ######2    |  63% \n",
      "conda-4.10.3         | 2.9 MB    | ######3    |  63% \n",
      "conda-4.10.3         | 2.9 MB    | ######3    |  64% \n",
      "conda-4.10.3         | 2.9 MB    | ######4    |  64% \n",
      "conda-4.10.3         | 2.9 MB    | ######4    |  65% \n",
      "conda-4.10.3         | 2.9 MB    | ######5    |  65% \n",
      "conda-4.10.3         | 2.9 MB    | ######5    |  66% \n",
      "conda-4.10.3         | 2.9 MB    | ######6    |  66% \n",
      "conda-4.10.3         | 2.9 MB    | ######6    |  67% \n",
      "conda-4.10.3         | 2.9 MB    | ######7    |  68% \n",
      "conda-4.10.3         | 2.9 MB    | ######8    |  68% \n",
      "conda-4.10.3         | 2.9 MB    | ######8    |  69% \n",
      "conda-4.10.3         | 2.9 MB    | ######9    |  69% \n",
      "conda-4.10.3         | 2.9 MB    | ######9    |  70% \n",
      "conda-4.10.3         | 2.9 MB    | #######    |  70% \n",
      "conda-4.10.3         | 2.9 MB    | #######    |  71% \n",
      "conda-4.10.3         | 2.9 MB    | #######1   |  71% \n",
      "conda-4.10.3         | 2.9 MB    | #######1   |  72% \n",
      "conda-4.10.3         | 2.9 MB    | #######2   |  72% \n",
      "conda-4.10.3         | 2.9 MB    | #######2   |  73% \n",
      "conda-4.10.3         | 2.9 MB    | #######3   |  74% \n",
      "conda-4.10.3         | 2.9 MB    | #######4   |  74% \n",
      "conda-4.10.3         | 2.9 MB    | #######4   |  75% \n",
      "conda-4.10.3         | 2.9 MB    | #######5   |  75% \n",
      "conda-4.10.3         | 2.9 MB    | #######5   |  76% \n",
      "conda-4.10.3         | 2.9 MB    | #######6   |  76% \n",
      "conda-4.10.3         | 2.9 MB    | #######6   |  77% \n",
      "conda-4.10.3         | 2.9 MB    | #######7   |  77% \n",
      "conda-4.10.3         | 2.9 MB    | #######7   |  78% \n",
      "conda-4.10.3         | 2.9 MB    | #######8   |  78% \n",
      "conda-4.10.3         | 2.9 MB    | #######8   |  79% \n",
      "conda-4.10.3         | 2.9 MB    | #######9   |  80% \n",
      "conda-4.10.3         | 2.9 MB    | ########   |  80% \n",
      "conda-4.10.3         | 2.9 MB    | ########   |  81% \n",
      "conda-4.10.3         | 2.9 MB    | ########1  |  81% \n",
      "conda-4.10.3         | 2.9 MB    | ########1  |  82% \n",
      "conda-4.10.3         | 2.9 MB    | ########2  |  82% \n",
      "conda-4.10.3         | 2.9 MB    | ########2  |  83% \n",
      "conda-4.10.3         | 2.9 MB    | ########3  |  83% \n",
      "conda-4.10.3         | 2.9 MB    | ########3  |  84% \n",
      "conda-4.10.3         | 2.9 MB    | ########4  |  84% \n",
      "conda-4.10.3         | 2.9 MB    | ########4  |  85% \n",
      "conda-4.10.3         | 2.9 MB    | ########5  |  86% \n",
      "conda-4.10.3         | 2.9 MB    | ########6  |  86% \n",
      "conda-4.10.3         | 2.9 MB    | ########6  |  87% \n",
      "conda-4.10.3         | 2.9 MB    | ########7  |  87% \n",
      "conda-4.10.3         | 2.9 MB    | ########7  |  88% \n",
      "conda-4.10.3         | 2.9 MB    | ########8  |  88% \n",
      "conda-4.10.3         | 2.9 MB    | ########8  |  89% \n",
      "conda-4.10.3         | 2.9 MB    | ########9  |  89% \n",
      "conda-4.10.3         | 2.9 MB    | ########9  |  90% \n",
      "conda-4.10.3         | 2.9 MB    | #########  |  90% \n",
      "conda-4.10.3         | 2.9 MB    | #########  |  91% \n",
      "conda-4.10.3         | 2.9 MB    | #########1 |  91% \n",
      "conda-4.10.3         | 2.9 MB    | #########2 |  92% \n",
      "conda-4.10.3         | 2.9 MB    | #########2 |  93% \n",
      "conda-4.10.3         | 2.9 MB    | #########3 |  93% \n",
      "conda-4.10.3         | 2.9 MB    | #########3 |  94% \n",
      "conda-4.10.3         | 2.9 MB    | #########4 |  94% \n",
      "conda-4.10.3         | 2.9 MB    | #########4 |  95% \n",
      "conda-4.10.3         | 2.9 MB    | #########5 |  95% \n",
      "conda-4.10.3         | 2.9 MB    | #########5 |  96% \n",
      "conda-4.10.3         | 2.9 MB    | #########6 |  96% \n",
      "conda-4.10.3         | 2.9 MB    | #########6 |  97% \n",
      "conda-4.10.3         | 2.9 MB    | #########7 |  97% \n",
      "conda-4.10.3         | 2.9 MB    | #########8 |  98% \n",
      "conda-4.10.3         | 2.9 MB    | #########8 |  99% \n",
      "conda-4.10.3         | 2.9 MB    | #########9 |  99% \n",
      "conda-4.10.3         | 2.9 MB    | #########9 | 100% \n",
      "conda-4.10.3         | 2.9 MB    | ########## | 100% \n",
      "conda-4.10.3         | 2.9 MB    | ########## | 100% \n",
      "Preparing transaction: ...working... done\n",
      "Verifying transaction: ...working... done\n",
      "Executing transaction: ...working... done\n"
     ]
    }
   ],
   "source": [
    "conda install numpy\n"
   ]
  },
  {
   "cell_type": "code",
   "execution_count": null,
   "id": "770e12cc",
   "metadata": {},
   "outputs": [],
   "source": []
  }
 ],
 "metadata": {
  "kernelspec": {
   "display_name": "Python 3",
   "language": "python",
   "name": "python3"
  },
  "language_info": {
   "codemirror_mode": {
    "name": "ipython",
    "version": 3
   },
   "file_extension": ".py",
   "mimetype": "text/x-python",
   "name": "python",
   "nbconvert_exporter": "python",
   "pygments_lexer": "ipython3",
   "version": "3.8.8"
  }
 },
 "nbformat": 4,
 "nbformat_minor": 5
}
